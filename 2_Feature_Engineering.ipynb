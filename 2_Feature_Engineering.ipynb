{
 "cells": [
  {
   "cell_type": "markdown",
   "id": "77f0987c",
   "metadata": {},
   "source": [
    "# 2. Feature Engineering"
   ]
  },
  {
   "cell_type": "code",
   "execution_count": 1,
   "id": "a5861a63",
   "metadata": {},
   "outputs": [
    {
     "name": "stdout",
     "output_type": "stream",
     "text": [
      "Available functions for data exploration:\n",
      "1 - load_dataframe\n",
      "2 - summarize_dataframe\n",
      "3 - drop_rows_with_missing_data\n",
      "4 - split_features_targets\n",
      "5 - show_null_columns\n",
      "6 - drop_columns_with_missing_data\n",
      "7 - split_continuous_binary\n",
      "8 - plot_correlation_heatmap\n",
      "9 - check_value_distributions\n",
      "10 - plot_value_distributions\n",
      "11 - clip_outliers_single\n",
      "12 - clip_outliers_multi\n",
      "13 - merge_dataframes\n",
      "14 - save_dataframe\n",
      "15 - compute_vif\n",
      "16 - drop_vif_based\n"
     ]
    }
   ],
   "source": [
    "import pandas as pd\n",
    "\n",
    "from paths import PREPROCESSED_DATA_CSV, ENGINEERED_DATA_CSV, FEATURE_ENG_DIR, TARGETS\n",
    "from ml_tools.logger import custom_logger\n",
    "from ml_tools.data_exploration import info\n",
    "info(full_info=False)"
   ]
  },
  {
   "cell_type": "code",
   "execution_count": 2,
   "id": "86169ed7",
   "metadata": {},
   "outputs": [],
   "source": [
    "from ml_tools.data_exploration import load_dataframe, summarize_dataframe, show_null_columns, drop_rows_with_missing_data, split_features_targets, split_continuous_binary, drop_columns_with_missing_data, plot_correlation_heatmap, plot_value_distributions, clip_outliers_multi, merge_dataframes, save_dataframe"
   ]
  },
  {
   "cell_type": "markdown",
   "id": "66533818",
   "metadata": {},
   "source": [
    "## 1. Load dataset"
   ]
  },
  {
   "cell_type": "code",
   "execution_count": 3,
   "id": "4f6bfc56",
   "metadata": {},
   "outputs": [
    {
     "name": "stdout",
     "output_type": "stream",
     "text": [
      "DataFrame shape (3760, 15)\n"
     ]
    }
   ],
   "source": [
    "raw_df = load_dataframe(df_path=PREPROCESSED_DATA_CSV)"
   ]
  },
  {
   "cell_type": "code",
   "execution_count": 4,
   "id": "2bb558fc",
   "metadata": {},
   "outputs": [
    {
     "name": "stdout",
     "output_type": "stream",
     "text": [
      "Shape: (3760, 15)\n"
     ]
    },
    {
     "data": {
      "text/html": [
       "<div>\n",
       "<style scoped>\n",
       "    .dataframe tbody tr th:only-of-type {\n",
       "        vertical-align: middle;\n",
       "    }\n",
       "\n",
       "    .dataframe tbody tr th {\n",
       "        vertical-align: top;\n",
       "    }\n",
       "\n",
       "    .dataframe thead th {\n",
       "        text-align: right;\n",
       "    }\n",
       "</style>\n",
       "<table border=\"1\" class=\"dataframe\">\n",
       "  <thead>\n",
       "    <tr style=\"text-align: right;\">\n",
       "      <th></th>\n",
       "      <th>Data Type</th>\n",
       "      <th>Non-Null Count</th>\n",
       "      <th>Unique Values</th>\n",
       "      <th>Missing %</th>\n",
       "      <th>mean</th>\n",
       "      <th>std</th>\n",
       "      <th>min</th>\n",
       "      <th>25%</th>\n",
       "      <th>50%</th>\n",
       "      <th>75%</th>\n",
       "      <th>max</th>\n",
       "    </tr>\n",
       "  </thead>\n",
       "  <tbody>\n",
       "    <tr>\n",
       "      <th>molecular_weight(g/mol)</th>\n",
       "      <td>float64</td>\n",
       "      <td>2657</td>\n",
       "      <td>39</td>\n",
       "      <td>29.34</td>\n",
       "      <td>425.80</td>\n",
       "      <td>202.75</td>\n",
       "      <td>51.00</td>\n",
       "      <td>340.13</td>\n",
       "      <td>392.00</td>\n",
       "      <td>422.00</td>\n",
       "      <td>1667.00</td>\n",
       "    </tr>\n",
       "    <tr>\n",
       "      <th>ratio_epoxy</th>\n",
       "      <td>float64</td>\n",
       "      <td>3547</td>\n",
       "      <td>137</td>\n",
       "      <td>5.66</td>\n",
       "      <td>60.21</td>\n",
       "      <td>47.92</td>\n",
       "      <td>0.00</td>\n",
       "      <td>5.50</td>\n",
       "      <td>85.20</td>\n",
       "      <td>100.00</td>\n",
       "      <td>579.00</td>\n",
       "    </tr>\n",
       "    <tr>\n",
       "      <th>ratio_curing</th>\n",
       "      <td>float64</td>\n",
       "      <td>3547</td>\n",
       "      <td>267</td>\n",
       "      <td>5.66</td>\n",
       "      <td>23.30</td>\n",
       "      <td>50.33</td>\n",
       "      <td>0.00</td>\n",
       "      <td>1.00</td>\n",
       "      <td>8.00</td>\n",
       "      <td>27.90</td>\n",
       "      <td>1337.70</td>\n",
       "    </tr>\n",
       "    <tr>\n",
       "      <th>carbon_fiber_content(%)</th>\n",
       "      <td>float64</td>\n",
       "      <td>1352</td>\n",
       "      <td>36</td>\n",
       "      <td>64.04</td>\n",
       "      <td>6.80</td>\n",
       "      <td>18.22</td>\n",
       "      <td>0.00</td>\n",
       "      <td>0.00</td>\n",
       "      <td>0.00</td>\n",
       "      <td>0.00</td>\n",
       "      <td>71.00</td>\n",
       "    </tr>\n",
       "    <tr>\n",
       "      <th>filler_proportion(%)</th>\n",
       "      <td>float64</td>\n",
       "      <td>2909</td>\n",
       "      <td>178</td>\n",
       "      <td>22.63</td>\n",
       "      <td>12.02</td>\n",
       "      <td>31.94</td>\n",
       "      <td>0.00</td>\n",
       "      <td>0.50</td>\n",
       "      <td>4.09</td>\n",
       "      <td>12.00</td>\n",
       "      <td>900.00</td>\n",
       "    </tr>\n",
       "    <tr>\n",
       "      <th>accelerator_content(%)</th>\n",
       "      <td>float64</td>\n",
       "      <td>669</td>\n",
       "      <td>22</td>\n",
       "      <td>82.21</td>\n",
       "      <td>1.01</td>\n",
       "      <td>1.26</td>\n",
       "      <td>0.00</td>\n",
       "      <td>0.30</td>\n",
       "      <td>1.00</td>\n",
       "      <td>1.00</td>\n",
       "      <td>7.41</td>\n",
       "    </tr>\n",
       "    <tr>\n",
       "      <th>temperature(K)</th>\n",
       "      <td>float64</td>\n",
       "      <td>3681</td>\n",
       "      <td>41</td>\n",
       "      <td>2.10</td>\n",
       "      <td>380.68</td>\n",
       "      <td>38.90</td>\n",
       "      <td>295.15</td>\n",
       "      <td>353.15</td>\n",
       "      <td>373.15</td>\n",
       "      <td>403.15</td>\n",
       "      <td>503.15</td>\n",
       "    </tr>\n",
       "    <tr>\n",
       "      <th>fracture_toughness(MPa*m0.5)</th>\n",
       "      <td>float64</td>\n",
       "      <td>356</td>\n",
       "      <td>166</td>\n",
       "      <td>90.53</td>\n",
       "      <td>2.99</td>\n",
       "      <td>3.84</td>\n",
       "      <td>0.46</td>\n",
       "      <td>1.13</td>\n",
       "      <td>1.56</td>\n",
       "      <td>3.10</td>\n",
       "      <td>21.58</td>\n",
       "    </tr>\n",
       "    <tr>\n",
       "      <th>flexural_strength(MPa)</th>\n",
       "      <td>float64</td>\n",
       "      <td>1731</td>\n",
       "      <td>894</td>\n",
       "      <td>53.96</td>\n",
       "      <td>177.74</td>\n",
       "      <td>296.44</td>\n",
       "      <td>1.78</td>\n",
       "      <td>79.20</td>\n",
       "      <td>101.00</td>\n",
       "      <td>129.16</td>\n",
       "      <td>3448.40</td>\n",
       "    </tr>\n",
       "    <tr>\n",
       "      <th>flexural_modulus(MPa)</th>\n",
       "      <td>float64</td>\n",
       "      <td>874</td>\n",
       "      <td>445</td>\n",
       "      <td>76.76</td>\n",
       "      <td>8703.18</td>\n",
       "      <td>21735.75</td>\n",
       "      <td>0.62</td>\n",
       "      <td>2549.25</td>\n",
       "      <td>3000.00</td>\n",
       "      <td>3762.50</td>\n",
       "      <td>190990.00</td>\n",
       "    </tr>\n",
       "    <tr>\n",
       "      <th>impact_strength(kJ/m2)</th>\n",
       "      <td>float64</td>\n",
       "      <td>1311</td>\n",
       "      <td>627</td>\n",
       "      <td>65.13</td>\n",
       "      <td>675.61</td>\n",
       "      <td>3948.62</td>\n",
       "      <td>0.00</td>\n",
       "      <td>10.84</td>\n",
       "      <td>19.50</td>\n",
       "      <td>37.49</td>\n",
       "      <td>33572.23</td>\n",
       "    </tr>\n",
       "    <tr>\n",
       "      <th>young_modulus(MPa)</th>\n",
       "      <td>float64</td>\n",
       "      <td>1129</td>\n",
       "      <td>607</td>\n",
       "      <td>69.97</td>\n",
       "      <td>3021.43</td>\n",
       "      <td>9898.10</td>\n",
       "      <td>0.08</td>\n",
       "      <td>1130.00</td>\n",
       "      <td>2030.00</td>\n",
       "      <td>2975.20</td>\n",
       "      <td>217300.00</td>\n",
       "    </tr>\n",
       "    <tr>\n",
       "      <th>tensile_strength(MPa)</th>\n",
       "      <td>float64</td>\n",
       "      <td>3108</td>\n",
       "      <td>1315</td>\n",
       "      <td>17.34</td>\n",
       "      <td>134.89</td>\n",
       "      <td>406.05</td>\n",
       "      <td>0.13</td>\n",
       "      <td>42.00</td>\n",
       "      <td>58.30</td>\n",
       "      <td>74.29</td>\n",
       "      <td>6000.00</td>\n",
       "    </tr>\n",
       "    <tr>\n",
       "      <th>shear_strength(MPa)</th>\n",
       "      <td>float64</td>\n",
       "      <td>220</td>\n",
       "      <td>121</td>\n",
       "      <td>94.15</td>\n",
       "      <td>256.48</td>\n",
       "      <td>577.62</td>\n",
       "      <td>0.78</td>\n",
       "      <td>15.57</td>\n",
       "      <td>58.84</td>\n",
       "      <td>85.00</td>\n",
       "      <td>2950.00</td>\n",
       "    </tr>\n",
       "    <tr>\n",
       "      <th>elongation_at_break(%)</th>\n",
       "      <td>float64</td>\n",
       "      <td>1370</td>\n",
       "      <td>508</td>\n",
       "      <td>63.56</td>\n",
       "      <td>17.75</td>\n",
       "      <td>35.23</td>\n",
       "      <td>0.05</td>\n",
       "      <td>3.81</td>\n",
       "      <td>6.40</td>\n",
       "      <td>12.58</td>\n",
       "      <td>375.00</td>\n",
       "    </tr>\n",
       "  </tbody>\n",
       "</table>\n",
       "</div>"
      ],
      "text/plain": [
       "                             Data Type  Non-Null Count  Unique Values  \\\n",
       "molecular_weight(g/mol)        float64            2657             39   \n",
       "ratio_epoxy                    float64            3547            137   \n",
       "ratio_curing                   float64            3547            267   \n",
       "carbon_fiber_content(%)        float64            1352             36   \n",
       "filler_proportion(%)           float64            2909            178   \n",
       "accelerator_content(%)         float64             669             22   \n",
       "temperature(K)                 float64            3681             41   \n",
       "fracture_toughness(MPa*m0.5)   float64             356            166   \n",
       "flexural_strength(MPa)         float64            1731            894   \n",
       "flexural_modulus(MPa)          float64             874            445   \n",
       "impact_strength(kJ/m2)         float64            1311            627   \n",
       "young_modulus(MPa)             float64            1129            607   \n",
       "tensile_strength(MPa)          float64            3108           1315   \n",
       "shear_strength(MPa)            float64             220            121   \n",
       "elongation_at_break(%)         float64            1370            508   \n",
       "\n",
       "                              Missing %     mean       std     min      25%  \\\n",
       "molecular_weight(g/mol)           29.34   425.80    202.75   51.00   340.13   \n",
       "ratio_epoxy                        5.66    60.21     47.92    0.00     5.50   \n",
       "ratio_curing                       5.66    23.30     50.33    0.00     1.00   \n",
       "carbon_fiber_content(%)           64.04     6.80     18.22    0.00     0.00   \n",
       "filler_proportion(%)              22.63    12.02     31.94    0.00     0.50   \n",
       "accelerator_content(%)            82.21     1.01      1.26    0.00     0.30   \n",
       "temperature(K)                     2.10   380.68     38.90  295.15   353.15   \n",
       "fracture_toughness(MPa*m0.5)      90.53     2.99      3.84    0.46     1.13   \n",
       "flexural_strength(MPa)            53.96   177.74    296.44    1.78    79.20   \n",
       "flexural_modulus(MPa)             76.76  8703.18  21735.75    0.62  2549.25   \n",
       "impact_strength(kJ/m2)            65.13   675.61   3948.62    0.00    10.84   \n",
       "young_modulus(MPa)                69.97  3021.43   9898.10    0.08  1130.00   \n",
       "tensile_strength(MPa)             17.34   134.89    406.05    0.13    42.00   \n",
       "shear_strength(MPa)               94.15   256.48    577.62    0.78    15.57   \n",
       "elongation_at_break(%)            63.56    17.75     35.23    0.05     3.81   \n",
       "\n",
       "                                  50%      75%        max  \n",
       "molecular_weight(g/mol)        392.00   422.00    1667.00  \n",
       "ratio_epoxy                     85.20   100.00     579.00  \n",
       "ratio_curing                     8.00    27.90    1337.70  \n",
       "carbon_fiber_content(%)          0.00     0.00      71.00  \n",
       "filler_proportion(%)             4.09    12.00     900.00  \n",
       "accelerator_content(%)           1.00     1.00       7.41  \n",
       "temperature(K)                 373.15   403.15     503.15  \n",
       "fracture_toughness(MPa*m0.5)     1.56     3.10      21.58  \n",
       "flexural_strength(MPa)         101.00   129.16    3448.40  \n",
       "flexural_modulus(MPa)         3000.00  3762.50  190990.00  \n",
       "impact_strength(kJ/m2)          19.50    37.49   33572.23  \n",
       "young_modulus(MPa)            2030.00  2975.20  217300.00  \n",
       "tensile_strength(MPa)           58.30    74.29    6000.00  \n",
       "shear_strength(MPa)             58.84    85.00    2950.00  \n",
       "elongation_at_break(%)           6.40    12.58     375.00  "
      ]
     },
     "execution_count": 4,
     "metadata": {},
     "output_type": "execute_result"
    }
   ],
   "source": [
    "summarize_dataframe(raw_df)"
   ]
  },
  {
   "cell_type": "markdown",
   "id": "d7166560",
   "metadata": {},
   "source": [
    "## 2. Drop samples with too many missing values"
   ]
  },
  {
   "cell_type": "code",
   "execution_count": 5,
   "id": "dcd9e65e",
   "metadata": {},
   "outputs": [
    {
     "name": "stdout",
     "output_type": "stream",
     "text": [
      "Dropping 191 rows with more than 70% missing data.\n"
     ]
    }
   ],
   "source": [
    "full_df = drop_rows_with_missing_data(df=raw_df, threshold=0.7)"
   ]
  },
  {
   "cell_type": "code",
   "execution_count": 6,
   "id": "652b11c6",
   "metadata": {},
   "outputs": [
    {
     "name": "stdout",
     "output_type": "stream",
     "text": [
      "Shape: (3569, 15)\n"
     ]
    },
    {
     "data": {
      "text/html": [
       "<div>\n",
       "<style scoped>\n",
       "    .dataframe tbody tr th:only-of-type {\n",
       "        vertical-align: middle;\n",
       "    }\n",
       "\n",
       "    .dataframe tbody tr th {\n",
       "        vertical-align: top;\n",
       "    }\n",
       "\n",
       "    .dataframe thead th {\n",
       "        text-align: right;\n",
       "    }\n",
       "</style>\n",
       "<table border=\"1\" class=\"dataframe\">\n",
       "  <thead>\n",
       "    <tr style=\"text-align: right;\">\n",
       "      <th></th>\n",
       "      <th>Data Type</th>\n",
       "      <th>Non-Null Count</th>\n",
       "      <th>Unique Values</th>\n",
       "      <th>Missing %</th>\n",
       "      <th>mean</th>\n",
       "      <th>std</th>\n",
       "      <th>min</th>\n",
       "      <th>25%</th>\n",
       "      <th>50%</th>\n",
       "      <th>75%</th>\n",
       "      <th>max</th>\n",
       "    </tr>\n",
       "  </thead>\n",
       "  <tbody>\n",
       "    <tr>\n",
       "      <th>molecular_weight(g/mol)</th>\n",
       "      <td>float64</td>\n",
       "      <td>2653</td>\n",
       "      <td>39</td>\n",
       "      <td>25.67</td>\n",
       "      <td>425.85</td>\n",
       "      <td>202.90</td>\n",
       "      <td>51.00</td>\n",
       "      <td>340.13</td>\n",
       "      <td>392.00</td>\n",
       "      <td>422.00</td>\n",
       "      <td>1667.00</td>\n",
       "    </tr>\n",
       "    <tr>\n",
       "      <th>ratio_epoxy</th>\n",
       "      <td>float64</td>\n",
       "      <td>3452</td>\n",
       "      <td>136</td>\n",
       "      <td>3.28</td>\n",
       "      <td>60.94</td>\n",
       "      <td>47.77</td>\n",
       "      <td>0.00</td>\n",
       "      <td>8.00</td>\n",
       "      <td>90.00</td>\n",
       "      <td>100.00</td>\n",
       "      <td>579.00</td>\n",
       "    </tr>\n",
       "    <tr>\n",
       "      <th>ratio_curing</th>\n",
       "      <td>float64</td>\n",
       "      <td>3452</td>\n",
       "      <td>258</td>\n",
       "      <td>3.28</td>\n",
       "      <td>23.55</td>\n",
       "      <td>50.83</td>\n",
       "      <td>0.00</td>\n",
       "      <td>1.00</td>\n",
       "      <td>8.80</td>\n",
       "      <td>27.90</td>\n",
       "      <td>1337.70</td>\n",
       "    </tr>\n",
       "    <tr>\n",
       "      <th>carbon_fiber_content(%)</th>\n",
       "      <td>float64</td>\n",
       "      <td>1351</td>\n",
       "      <td>36</td>\n",
       "      <td>62.15</td>\n",
       "      <td>6.76</td>\n",
       "      <td>18.18</td>\n",
       "      <td>0.00</td>\n",
       "      <td>0.00</td>\n",
       "      <td>0.00</td>\n",
       "      <td>0.00</td>\n",
       "      <td>71.00</td>\n",
       "    </tr>\n",
       "    <tr>\n",
       "      <th>filler_proportion(%)</th>\n",
       "      <td>float64</td>\n",
       "      <td>2824</td>\n",
       "      <td>164</td>\n",
       "      <td>20.87</td>\n",
       "      <td>12.31</td>\n",
       "      <td>32.37</td>\n",
       "      <td>0.00</td>\n",
       "      <td>0.50</td>\n",
       "      <td>5.00</td>\n",
       "      <td>12.02</td>\n",
       "      <td>900.00</td>\n",
       "    </tr>\n",
       "    <tr>\n",
       "      <th>accelerator_content(%)</th>\n",
       "      <td>float64</td>\n",
       "      <td>669</td>\n",
       "      <td>22</td>\n",
       "      <td>81.26</td>\n",
       "      <td>1.01</td>\n",
       "      <td>1.26</td>\n",
       "      <td>0.00</td>\n",
       "      <td>0.30</td>\n",
       "      <td>1.00</td>\n",
       "      <td>1.00</td>\n",
       "      <td>7.41</td>\n",
       "    </tr>\n",
       "    <tr>\n",
       "      <th>temperature(K)</th>\n",
       "      <td>float64</td>\n",
       "      <td>3533</td>\n",
       "      <td>38</td>\n",
       "      <td>1.01</td>\n",
       "      <td>381.30</td>\n",
       "      <td>38.91</td>\n",
       "      <td>298.15</td>\n",
       "      <td>353.15</td>\n",
       "      <td>373.15</td>\n",
       "      <td>403.15</td>\n",
       "      <td>503.15</td>\n",
       "    </tr>\n",
       "    <tr>\n",
       "      <th>fracture_toughness(MPa*m0.5)</th>\n",
       "      <td>float64</td>\n",
       "      <td>319</td>\n",
       "      <td>153</td>\n",
       "      <td>91.06</td>\n",
       "      <td>3.21</td>\n",
       "      <td>3.99</td>\n",
       "      <td>0.55</td>\n",
       "      <td>1.21</td>\n",
       "      <td>1.63</td>\n",
       "      <td>3.55</td>\n",
       "      <td>21.58</td>\n",
       "    </tr>\n",
       "    <tr>\n",
       "      <th>flexural_strength(MPa)</th>\n",
       "      <td>float64</td>\n",
       "      <td>1712</td>\n",
       "      <td>886</td>\n",
       "      <td>52.03</td>\n",
       "      <td>175.79</td>\n",
       "      <td>292.63</td>\n",
       "      <td>1.78</td>\n",
       "      <td>78.85</td>\n",
       "      <td>100.79</td>\n",
       "      <td>128.04</td>\n",
       "      <td>3448.40</td>\n",
       "    </tr>\n",
       "    <tr>\n",
       "      <th>flexural_modulus(MPa)</th>\n",
       "      <td>float64</td>\n",
       "      <td>873</td>\n",
       "      <td>444</td>\n",
       "      <td>75.54</td>\n",
       "      <td>8713.14</td>\n",
       "      <td>21746.21</td>\n",
       "      <td>0.62</td>\n",
       "      <td>2550.00</td>\n",
       "      <td>3000.00</td>\n",
       "      <td>3770.00</td>\n",
       "      <td>190990.00</td>\n",
       "    </tr>\n",
       "    <tr>\n",
       "      <th>impact_strength(kJ/m2)</th>\n",
       "      <td>float64</td>\n",
       "      <td>1284</td>\n",
       "      <td>624</td>\n",
       "      <td>64.02</td>\n",
       "      <td>688.51</td>\n",
       "      <td>3988.94</td>\n",
       "      <td>0.00</td>\n",
       "      <td>10.78</td>\n",
       "      <td>19.20</td>\n",
       "      <td>36.50</td>\n",
       "      <td>33572.23</td>\n",
       "    </tr>\n",
       "    <tr>\n",
       "      <th>young_modulus(MPa)</th>\n",
       "      <td>float64</td>\n",
       "      <td>1077</td>\n",
       "      <td>589</td>\n",
       "      <td>69.82</td>\n",
       "      <td>3029.60</td>\n",
       "      <td>10132.84</td>\n",
       "      <td>0.08</td>\n",
       "      <td>1093.00</td>\n",
       "      <td>1939.00</td>\n",
       "      <td>2950.00</td>\n",
       "      <td>217300.00</td>\n",
       "    </tr>\n",
       "    <tr>\n",
       "      <th>tensile_strength(MPa)</th>\n",
       "      <td>float64</td>\n",
       "      <td>3058</td>\n",
       "      <td>1297</td>\n",
       "      <td>14.32</td>\n",
       "      <td>136.03</td>\n",
       "      <td>409.09</td>\n",
       "      <td>0.13</td>\n",
       "      <td>42.14</td>\n",
       "      <td>58.34</td>\n",
       "      <td>74.44</td>\n",
       "      <td>6000.00</td>\n",
       "    </tr>\n",
       "    <tr>\n",
       "      <th>shear_strength(MPa)</th>\n",
       "      <td>float64</td>\n",
       "      <td>220</td>\n",
       "      <td>121</td>\n",
       "      <td>93.84</td>\n",
       "      <td>256.48</td>\n",
       "      <td>577.62</td>\n",
       "      <td>0.78</td>\n",
       "      <td>15.57</td>\n",
       "      <td>58.84</td>\n",
       "      <td>85.00</td>\n",
       "      <td>2950.00</td>\n",
       "    </tr>\n",
       "    <tr>\n",
       "      <th>elongation_at_break(%)</th>\n",
       "      <td>float64</td>\n",
       "      <td>1359</td>\n",
       "      <td>506</td>\n",
       "      <td>61.92</td>\n",
       "      <td>17.86</td>\n",
       "      <td>35.35</td>\n",
       "      <td>0.05</td>\n",
       "      <td>3.84</td>\n",
       "      <td>6.50</td>\n",
       "      <td>12.68</td>\n",
       "      <td>375.00</td>\n",
       "    </tr>\n",
       "  </tbody>\n",
       "</table>\n",
       "</div>"
      ],
      "text/plain": [
       "                             Data Type  Non-Null Count  Unique Values  \\\n",
       "molecular_weight(g/mol)        float64            2653             39   \n",
       "ratio_epoxy                    float64            3452            136   \n",
       "ratio_curing                   float64            3452            258   \n",
       "carbon_fiber_content(%)        float64            1351             36   \n",
       "filler_proportion(%)           float64            2824            164   \n",
       "accelerator_content(%)         float64             669             22   \n",
       "temperature(K)                 float64            3533             38   \n",
       "fracture_toughness(MPa*m0.5)   float64             319            153   \n",
       "flexural_strength(MPa)         float64            1712            886   \n",
       "flexural_modulus(MPa)          float64             873            444   \n",
       "impact_strength(kJ/m2)         float64            1284            624   \n",
       "young_modulus(MPa)             float64            1077            589   \n",
       "tensile_strength(MPa)          float64            3058           1297   \n",
       "shear_strength(MPa)            float64             220            121   \n",
       "elongation_at_break(%)         float64            1359            506   \n",
       "\n",
       "                              Missing %     mean       std     min      25%  \\\n",
       "molecular_weight(g/mol)           25.67   425.85    202.90   51.00   340.13   \n",
       "ratio_epoxy                        3.28    60.94     47.77    0.00     8.00   \n",
       "ratio_curing                       3.28    23.55     50.83    0.00     1.00   \n",
       "carbon_fiber_content(%)           62.15     6.76     18.18    0.00     0.00   \n",
       "filler_proportion(%)              20.87    12.31     32.37    0.00     0.50   \n",
       "accelerator_content(%)            81.26     1.01      1.26    0.00     0.30   \n",
       "temperature(K)                     1.01   381.30     38.91  298.15   353.15   \n",
       "fracture_toughness(MPa*m0.5)      91.06     3.21      3.99    0.55     1.21   \n",
       "flexural_strength(MPa)            52.03   175.79    292.63    1.78    78.85   \n",
       "flexural_modulus(MPa)             75.54  8713.14  21746.21    0.62  2550.00   \n",
       "impact_strength(kJ/m2)            64.02   688.51   3988.94    0.00    10.78   \n",
       "young_modulus(MPa)                69.82  3029.60  10132.84    0.08  1093.00   \n",
       "tensile_strength(MPa)             14.32   136.03    409.09    0.13    42.14   \n",
       "shear_strength(MPa)               93.84   256.48    577.62    0.78    15.57   \n",
       "elongation_at_break(%)            61.92    17.86     35.35    0.05     3.84   \n",
       "\n",
       "                                  50%      75%        max  \n",
       "molecular_weight(g/mol)        392.00   422.00    1667.00  \n",
       "ratio_epoxy                     90.00   100.00     579.00  \n",
       "ratio_curing                     8.80    27.90    1337.70  \n",
       "carbon_fiber_content(%)          0.00     0.00      71.00  \n",
       "filler_proportion(%)             5.00    12.02     900.00  \n",
       "accelerator_content(%)           1.00     1.00       7.41  \n",
       "temperature(K)                 373.15   403.15     503.15  \n",
       "fracture_toughness(MPa*m0.5)     1.63     3.55      21.58  \n",
       "flexural_strength(MPa)         100.79   128.04    3448.40  \n",
       "flexural_modulus(MPa)         3000.00  3770.00  190990.00  \n",
       "impact_strength(kJ/m2)          19.20    36.50   33572.23  \n",
       "young_modulus(MPa)            1939.00  2950.00  217300.00  \n",
       "tensile_strength(MPa)           58.34    74.44    6000.00  \n",
       "shear_strength(MPa)             58.84    85.00    2950.00  \n",
       "elongation_at_break(%)           6.50    12.68     375.00  "
      ]
     },
     "execution_count": 6,
     "metadata": {},
     "output_type": "execute_result"
    }
   ],
   "source": [
    "summarize_dataframe(full_df)"
   ]
  },
  {
   "cell_type": "markdown",
   "id": "3f799b1b",
   "metadata": {},
   "source": [
    "## 3. Split features and targets"
   ]
  },
  {
   "cell_type": "code",
   "execution_count": 7,
   "id": "a31393d2",
   "metadata": {},
   "outputs": [
    {
     "name": "stdout",
     "output_type": "stream",
     "text": [
      "Original shape: (3569, 15)\n",
      "Targets shape: (3569, 8)\n",
      "Features shape: (3569, 7)\n"
     ]
    }
   ],
   "source": [
    "df_targets, df_features = split_features_targets(df=full_df, targets=TARGETS)"
   ]
  },
  {
   "cell_type": "markdown",
   "id": "66105afb",
   "metadata": {},
   "source": [
    "## 4. Check for missing values in columns"
   ]
  },
  {
   "cell_type": "code",
   "execution_count": 10,
   "id": "93ca69de",
   "metadata": {},
   "outputs": [
    {
     "data": {
      "text/html": [
       "<div>\n",
       "<style scoped>\n",
       "    .dataframe tbody tr th:only-of-type {\n",
       "        vertical-align: middle;\n",
       "    }\n",
       "\n",
       "    .dataframe tbody tr th {\n",
       "        vertical-align: top;\n",
       "    }\n",
       "\n",
       "    .dataframe thead th {\n",
       "        text-align: right;\n",
       "    }\n",
       "</style>\n",
       "<table border=\"1\" class=\"dataframe\">\n",
       "  <thead>\n",
       "    <tr style=\"text-align: right;\">\n",
       "      <th></th>\n",
       "      <th>Missing Count</th>\n",
       "      <th>Missing %</th>\n",
       "    </tr>\n",
       "  </thead>\n",
       "  <tbody>\n",
       "    <tr>\n",
       "      <th>shear_strength(MPa)</th>\n",
       "      <td>3349</td>\n",
       "      <td>93.84</td>\n",
       "    </tr>\n",
       "    <tr>\n",
       "      <th>fracture_toughness(MPa*m0.5)</th>\n",
       "      <td>3250</td>\n",
       "      <td>91.06</td>\n",
       "    </tr>\n",
       "    <tr>\n",
       "      <th>flexural_modulus(MPa)</th>\n",
       "      <td>2696</td>\n",
       "      <td>75.54</td>\n",
       "    </tr>\n",
       "    <tr>\n",
       "      <th>young_modulus(MPa)</th>\n",
       "      <td>2492</td>\n",
       "      <td>69.82</td>\n",
       "    </tr>\n",
       "    <tr>\n",
       "      <th>impact_strength(kJ/m2)</th>\n",
       "      <td>2285</td>\n",
       "      <td>64.02</td>\n",
       "    </tr>\n",
       "    <tr>\n",
       "      <th>elongation_at_break(%)</th>\n",
       "      <td>2210</td>\n",
       "      <td>61.92</td>\n",
       "    </tr>\n",
       "    <tr>\n",
       "      <th>flexural_strength(MPa)</th>\n",
       "      <td>1857</td>\n",
       "      <td>52.03</td>\n",
       "    </tr>\n",
       "    <tr>\n",
       "      <th>tensile_strength(MPa)</th>\n",
       "      <td>511</td>\n",
       "      <td>14.32</td>\n",
       "    </tr>\n",
       "  </tbody>\n",
       "</table>\n",
       "</div>"
      ],
      "text/plain": [
       "                              Missing Count  Missing %\n",
       "shear_strength(MPa)                    3349      93.84\n",
       "fracture_toughness(MPa*m0.5)           3250      91.06\n",
       "flexural_modulus(MPa)                  2696      75.54\n",
       "young_modulus(MPa)                     2492      69.82\n",
       "impact_strength(kJ/m2)                 2285      64.02\n",
       "elongation_at_break(%)                 2210      61.92\n",
       "flexural_strength(MPa)                 1857      52.03\n",
       "tensile_strength(MPa)                   511      14.32"
      ]
     },
     "execution_count": 10,
     "metadata": {},
     "output_type": "execute_result"
    }
   ],
   "source": [
    "target_nulls = show_null_columns(df_targets)\n",
    "target_nulls"
   ]
  },
  {
   "cell_type": "code",
   "execution_count": 11,
   "id": "79bcc806",
   "metadata": {},
   "outputs": [
    {
     "data": {
      "text/html": [
       "<div>\n",
       "<style scoped>\n",
       "    .dataframe tbody tr th:only-of-type {\n",
       "        vertical-align: middle;\n",
       "    }\n",
       "\n",
       "    .dataframe tbody tr th {\n",
       "        vertical-align: top;\n",
       "    }\n",
       "\n",
       "    .dataframe thead th {\n",
       "        text-align: right;\n",
       "    }\n",
       "</style>\n",
       "<table border=\"1\" class=\"dataframe\">\n",
       "  <thead>\n",
       "    <tr style=\"text-align: right;\">\n",
       "      <th></th>\n",
       "      <th>Missing Count</th>\n",
       "      <th>Missing %</th>\n",
       "    </tr>\n",
       "  </thead>\n",
       "  <tbody>\n",
       "    <tr>\n",
       "      <th>accelerator_content(%)</th>\n",
       "      <td>2900</td>\n",
       "      <td>81.26</td>\n",
       "    </tr>\n",
       "    <tr>\n",
       "      <th>carbon_fiber_content(%)</th>\n",
       "      <td>2218</td>\n",
       "      <td>62.15</td>\n",
       "    </tr>\n",
       "    <tr>\n",
       "      <th>molecular_weight(g/mol)</th>\n",
       "      <td>916</td>\n",
       "      <td>25.67</td>\n",
       "    </tr>\n",
       "    <tr>\n",
       "      <th>filler_proportion(%)</th>\n",
       "      <td>745</td>\n",
       "      <td>20.87</td>\n",
       "    </tr>\n",
       "    <tr>\n",
       "      <th>ratio_epoxy</th>\n",
       "      <td>117</td>\n",
       "      <td>3.28</td>\n",
       "    </tr>\n",
       "    <tr>\n",
       "      <th>ratio_curing</th>\n",
       "      <td>117</td>\n",
       "      <td>3.28</td>\n",
       "    </tr>\n",
       "    <tr>\n",
       "      <th>temperature(K)</th>\n",
       "      <td>36</td>\n",
       "      <td>1.01</td>\n",
       "    </tr>\n",
       "  </tbody>\n",
       "</table>\n",
       "</div>"
      ],
      "text/plain": [
       "                         Missing Count  Missing %\n",
       "accelerator_content(%)            2900      81.26\n",
       "carbon_fiber_content(%)           2218      62.15\n",
       "molecular_weight(g/mol)            916      25.67\n",
       "filler_proportion(%)               745      20.87\n",
       "ratio_epoxy                        117       3.28\n",
       "ratio_curing                       117       3.28\n",
       "temperature(K)                      36       1.01"
      ]
     },
     "execution_count": 11,
     "metadata": {},
     "output_type": "execute_result"
    }
   ],
   "source": [
    "feature_nulls = show_null_columns(df_features)\n",
    "feature_nulls"
   ]
  },
  {
   "cell_type": "markdown",
   "id": "38e22951",
   "metadata": {},
   "source": [
    "Save logs"
   ]
  },
  {
   "cell_type": "code",
   "execution_count": 12,
   "id": "a8bfbeff",
   "metadata": {},
   "outputs": [
    {
     "name": "stdout",
     "output_type": "stream",
     "text": [
      "Log saved to: /home/karl/epoxy/data/Feature Engineering/target_nulls_20250611_1027.xlsx\n"
     ]
    }
   ],
   "source": [
    "custom_logger(data=target_nulls, save_directory=FEATURE_ENG_DIR, log_name=\"target_nulls\")"
   ]
  },
  {
   "cell_type": "code",
   "execution_count": 13,
   "id": "e4a5256d",
   "metadata": {},
   "outputs": [
    {
     "name": "stdout",
     "output_type": "stream",
     "text": [
      "Log saved to: /home/karl/epoxy/data/Feature Engineering/feature_nulls_20250611_1028.xlsx\n"
     ]
    }
   ],
   "source": [
    "custom_logger(data=feature_nulls, save_directory=FEATURE_ENG_DIR, log_name=\"feature_nulls\")"
   ]
  },
  {
   "cell_type": "markdown",
   "id": "2a5050c8",
   "metadata": {},
   "source": [
    "## 5. Drop features with too many missing values"
   ]
  },
  {
   "cell_type": "code",
   "execution_count": 14,
   "id": "c4d46c35",
   "metadata": {},
   "outputs": [
    {
     "name": "stdout",
     "output_type": "stream",
     "text": [
      "Dropping columns with more than 70% missing data:\n",
      "['accelerator_content(%)']\n"
     ]
    }
   ],
   "source": [
    "df_lessnulls_features = drop_columns_with_missing_data(df=df_features, threshold=0.7)"
   ]
  },
  {
   "cell_type": "markdown",
   "id": "02ec4e26",
   "metadata": {},
   "source": [
    "## 6. Split continuous and binary features"
   ]
  },
  {
   "cell_type": "code",
   "execution_count": 15,
   "id": "2db2efa6",
   "metadata": {},
   "outputs": [
    {
     "name": "stdout",
     "output_type": "stream",
     "text": [
      "Continuous columns shape: (3569, 6)\n",
      "Binary columns shape: (3569, 0)\n"
     ]
    }
   ],
   "source": [
    "df_cont, df_binary= split_continuous_binary(df_lessnulls_features)"
   ]
  },
  {
   "cell_type": "markdown",
   "id": "3a2bc4b6",
   "metadata": {},
   "source": [
    "## 7. Plot correlation heatmaps"
   ]
  },
  {
   "cell_type": "code",
   "execution_count": 16,
   "id": "21660e70",
   "metadata": {},
   "outputs": [
    {
     "name": "stdout",
     "output_type": "stream",
     "text": [
      "Saved correlation heatmap to: /home/karl/epoxy/data/Feature Engineering/Correlation Heatmap of Continuous Features.svg\n"
     ]
    },
    {
     "data": {
      "image/png": "[encoded data removed]",
      "text/plain": [
       "<Figure size 1000x800 with 2 Axes>"
      ]
     },
     "metadata": {},
     "output_type": "display_data"
    }
   ],
   "source": [
    "plot_correlation_heatmap(df=df_cont, save_dir=FEATURE_ENG_DIR, plot_title=\"Correlation Heatmap of Continuous Features\")"
   ]
  },
  {
   "cell_type": "code",
   "execution_count": null,
   "id": "be442beb",
   "metadata": {},
   "outputs": [],
   "source": [
    "plot_correlation_heatmap(df=df_binary, save_dir=FEATURE_ENG_DIR, plot_title=\"Correlation Heatmap of Binary Features\")"
   ]
  },
  {
   "cell_type": "markdown",
   "id": "70537289",
   "metadata": {},
   "source": [
    "## 8. Plot value distributions"
   ]
  },
  {
   "cell_type": "code",
   "execution_count": 17,
   "id": "f43a5fa1",
   "metadata": {},
   "outputs": [
    {
     "name": "stdout",
     "output_type": "stream",
     "text": [
      "Saved 6 plot(s)\n"
     ]
    }
   ],
   "source": [
    "plot_value_distributions(df=df_cont, save_dir=FEATURE_ENG_DIR)"
   ]
  },
  {
   "cell_type": "code",
   "execution_count": 18,
   "id": "60552dbe",
   "metadata": {},
   "outputs": [
    {
     "name": "stdout",
     "output_type": "stream",
     "text": [
      "Saved 8 plot(s)\n"
     ]
    }
   ],
   "source": [
    "plot_value_distributions(df=df_targets, save_dir=FEATURE_ENG_DIR)"
   ]
  },
  {
   "cell_type": "markdown",
   "id": "7f973d41",
   "metadata": {},
   "source": [
    "## 9. Clip outlier values"
   ]
  },
  {
   "cell_type": "markdown",
   "id": "ed8c2668",
   "metadata": {},
   "source": [
    "## 10. Merge and save datasframe"
   ]
  },
  {
   "cell_type": "code",
   "execution_count": null,
   "id": "46c32bf4",
   "metadata": {},
   "outputs": [],
   "source": [
    "# engineered_df = merge_dataframes(df_cont, df_binary, df_targets)\n",
    "engineered_df = merge_dataframes(df_cont, df_targets)"
   ]
  },
  {
   "cell_type": "code",
   "execution_count": null,
   "id": "6120583b",
   "metadata": {},
   "outputs": [],
   "source": [
    "save_dataframe(df=engineered_df, save_path=ENGINEERED_DATA_CSV)"
   ]
  }
 ],
 "metadata": {
  "kernelspec": {
   "display_name": "Epoxy",
   "language": "python",
   "name": "python3"
  },
  "language_info": {
   "codemirror_mode": {
    "name": "ipython",
    "version": 3
   },
   "file_extension": ".py",
   "mimetype": "text/x-python",
   "name": "python",
   "nbconvert_exporter": "python",
   "pygments_lexer": "ipython3",
   "version": "3.12.11"
  }
 },
 "nbformat": 4,
 "nbformat_minor": 5
}
