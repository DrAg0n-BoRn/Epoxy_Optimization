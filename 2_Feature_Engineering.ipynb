{
 "cells": [
  {
   "cell_type": "markdown",
   "id": "77f0987c",
   "metadata": {},
   "source": [
    "# 2. Feature Engineering"
   ]
  },
  {
   "cell_type": "code",
   "execution_count": null,
   "id": "a5861a63",
   "metadata": {},
   "outputs": [],
   "source": [
    "import pandas as pd\n",
    "\n",
    "from paths import PREPROCESSED_DATA_CSV, ENGINEERED_DATA_CSV, FEATURE_ENG_DIR, TARGETS\n",
    "from ml_tools.data_exploration import info\n",
    "info(full_info=False)"
   ]
  },
  {
   "cell_type": "code",
   "execution_count": null,
   "id": "86169ed7",
   "metadata": {},
   "outputs": [],
   "source": [
    "from ml_tools.data_exploration import get_features_targets, summarize_dataframe, split_continuous_and_binary, show_null_columns, drop_rows_with_missing_data, drop_columns_with_missing_data, clip_outliers_multi, plot_correlation_heatmap, check_value_distributions, plot_value_distributions, merge_dataframes, save_dataframe"
   ]
  },
  {
   "cell_type": "markdown",
   "id": "66533818",
   "metadata": {},
   "source": [
    "## 1. Get dataset splits"
   ]
  },
  {
   "cell_type": "code",
   "execution_count": null,
   "id": "4f6bfc56",
   "metadata": {},
   "outputs": [],
   "source": [
    "full_df, df_targets, df_features= get_features_targets(df_path=PREPROCESSED_DATA_CSV, targets=TARGETS)"
   ]
  },
  {
   "cell_type": "code",
   "execution_count": null,
   "id": "2bb558fc",
   "metadata": {},
   "outputs": [],
   "source": [
    "summarize_dataframe(df_targets)"
   ]
  },
  {
   "cell_type": "code",
   "execution_count": null,
   "id": "0710704d",
   "metadata": {},
   "outputs": [],
   "source": [
    "summarize_dataframe(df_features)"
   ]
  },
  {
   "cell_type": "markdown",
   "id": "d7166560",
   "metadata": {},
   "source": [
    "## 2. Check Nulls"
   ]
  },
  {
   "cell_type": "code",
   "execution_count": null,
   "id": "1041c01b",
   "metadata": {},
   "outputs": [],
   "source": []
  },
  {
   "cell_type": "markdown",
   "id": "02ec4e26",
   "metadata": {},
   "source": [
    "## 3. Split continuous/binary features"
   ]
  },
  {
   "cell_type": "code",
   "execution_count": null,
   "id": "2db2efa6",
   "metadata": {},
   "outputs": [],
   "source": [
    "df_cont, df_binary= split_continuous_and_binary(df_features)"
   ]
  },
  {
   "cell_type": "code",
   "execution_count": null,
   "id": "df661cbc",
   "metadata": {},
   "outputs": [],
   "source": []
  }
 ],
 "metadata": {
  "kernelspec": {
   "display_name": "Epoxy",
   "language": "python",
   "name": "python3"
  },
  "language_info": {
   "codemirror_mode": {
    "name": "ipython",
    "version": 3
   },
   "file_extension": ".py",
   "mimetype": "text/x-python",
   "name": "python",
   "nbconvert_exporter": "python",
   "pygments_lexer": "ipython3",
   "version": "3.12.11"
  }
 },
 "nbformat": 4,
 "nbformat_minor": 5
}
